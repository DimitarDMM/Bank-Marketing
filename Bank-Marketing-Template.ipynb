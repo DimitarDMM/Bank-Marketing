{
 "cells": [
  {
   "cell_type": "markdown",
   "metadata": {
    "colab_type": "text",
    "id": "RarNoE4PSXyr"
   },
   "source": [
    "# Bank data analysis\n",
    "\n",
    "The goal of your project is to create a robust classifier and use the data, with the help of which you will build a model that will recognize whether specific client will subscribe to a long term bank deposit (Binary classification).  \n",
    "Make feature engineering but also try differnet models in order to get as much accuracy as possible.\n",
    "\n",
    "\n",
    "1. Phase 1 : Dataset\n",
    "    * Team Planning\n",
    "    * Full git project Integration\n",
    "    * General Project Research\n",
    "    * Dataset Preparation\n",
    "    * Dataset Feature Engineering\n",
    "\n",
    "2. Phase 2 : Training\n",
    "    * Make Research about your model\n",
    "    * Compose your model (try different models) \n",
    "    * Ping Pong phase with Dataset feature engineers\n",
    "    * Generate more data if needed\n",
    "    * Fine tunning of your model\n",
    "\n",
    "3. Phase 3 : Deployment\n",
    "    * Perform benchmark (precision/recall)\n",
    "    * Model Deploy (Git)\n",
    "    * Write git Readme.md file\n",
    "    * Receive Feedback from PM"
   ]
  },
  {
   "cell_type": "markdown",
   "metadata": {
    "colab_type": "text",
    "id": "vIGo_fGNSXys"
   },
   "source": [
    "## 0. Read data, visualize, basic statistics, understand it"
   ]
  },
  {
   "cell_type": "code",
   "execution_count": null,
   "metadata": {
    "colab": {},
    "colab_type": "code",
    "id": "Xj5WSaLYSXys"
   },
   "outputs": [],
   "source": []
  },
  {
   "cell_type": "markdown",
   "metadata": {
    "colab_type": "text",
    "id": "qcK1sU4iSXyw"
   },
   "source": [
    "## 1. Data preprocessing, normalization, missing data, categorical data"
   ]
  },
  {
   "cell_type": "code",
   "execution_count": null,
   "metadata": {
    "colab": {},
    "colab_type": "code",
    "id": "kgOelHW2SXyx"
   },
   "outputs": [],
   "source": []
  },
  {
   "cell_type": "markdown",
   "metadata": {
    "colab_type": "text",
    "id": "XiazHmxRSXy0"
   },
   "source": [
    "## 2. Feature Anaysis, Extraction & Selection\n",
    "(you may need to perform feature selection after creating default models and compare to them)"
   ]
  },
  {
   "cell_type": "code",
   "execution_count": null,
   "metadata": {
    "colab": {},
    "colab_type": "code",
    "id": "f1QIHDpbSXy0"
   },
   "outputs": [],
   "source": []
  },
  {
   "cell_type": "markdown",
   "metadata": {
    "colab_type": "text",
    "id": "92THQSXGSXy3"
   },
   "source": [
    "## 3. Classification models\n",
    "- classical classification models\n",
    "- deep neural networks"
   ]
  },
  {
   "cell_type": "code",
   "execution_count": null,
   "metadata": {
    "colab": {},
    "colab_type": "code",
    "id": "ve5_cjilSXy4"
   },
   "outputs": [],
   "source": []
  },
  {
   "cell_type": "markdown",
   "metadata": {
    "colab_type": "text",
    "id": "JGyhoU96SXy7"
   },
   "source": [
    "## 4. Evaluation and comparisons, various metrics"
   ]
  },
  {
   "cell_type": "code",
   "execution_count": null,
   "metadata": {
    "colab": {},
    "colab_type": "code",
    "id": "L0_vsmimSXy8"
   },
   "outputs": [],
   "source": []
  },
  {
   "cell_type": "markdown",
   "metadata": {
    "colab_type": "text",
    "id": "C4TYzMqQSXy_"
   },
   "source": [
    "## 5. Hyperparameter Optimization"
   ]
  },
  {
   "cell_type": "code",
   "execution_count": null,
   "metadata": {
    "colab": {},
    "colab_type": "code",
    "id": "b5DpSTA-SXy_"
   },
   "outputs": [],
   "source": []
  },
  {
   "cell_type": "markdown",
   "metadata": {
    "colab_type": "text",
    "id": "c1Uyu5APSXzD"
   },
   "source": [
    "## 6. Final evaluations and comparisons\n",
    "- the best model - analyze it in details, evaluate it with different train/test splits. Is it robust enough"
   ]
  },
  {
   "cell_type": "code",
   "execution_count": null,
   "metadata": {
    "colab": {},
    "colab_type": "code",
    "id": "BJYe6t-oSXzD"
   },
   "outputs": [],
   "source": []
  },
  {
   "cell_type": "markdown",
   "metadata": {
    "colab_type": "text",
    "id": "-yo2Rs_5SXzG"
   },
   "source": [
    "## 7. Discussion, Concusions, Future improvements\n",
    "- which features are the most important\n",
    "- how will you explain the model to the management of the bank\n",
    "- how much benefit/improvement should the bank expect"
   ]
  },
  {
   "cell_type": "code",
   "execution_count": null,
   "metadata": {
    "colab": {},
    "colab_type": "code",
    "id": "HSU-oBptSXzG"
   },
   "outputs": [],
   "source": []
  }
 ],
 "metadata": {
  "colab": {
   "collapsed_sections": [],
   "name": "Bank-Marketing-Template.ipynb",
   "provenance": []
  },
  "kernelspec": {
   "display_name": "Python 3",
   "language": "python",
   "name": "python3"
  },
  "language_info": {
   "codemirror_mode": {
    "name": "ipython",
    "version": 3
   },
   "file_extension": ".py",
   "mimetype": "text/x-python",
   "name": "python",
   "nbconvert_exporter": "python",
   "pygments_lexer": "ipython3",
   "version": "3.7.3"
  }
 },
 "nbformat": 4,
 "nbformat_minor": 1
}
