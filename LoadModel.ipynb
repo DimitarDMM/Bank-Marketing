{
 "cells": [
  {
   "cell_type": "code",
   "execution_count": 2,
   "metadata": {},
   "outputs": [],
   "source": [
    "import numpy as np\n",
    "import pandas as pd\n",
    "from sklearn.model_selection import train_test_split\n",
    "import xgboost as xgb\n",
    "from joblib import dump, load\n",
    "from xgboost import XGBClassifier\n",
    "from sklearn.inspection import permutation_importance\n",
    "import eli5\n",
    "from eli5.sklearn import PermutationImportance"
   ]
  },
  {
   "cell_type": "code",
   "execution_count": 3,
   "metadata": {},
   "outputs": [],
   "source": [
    "def warn(*args, **kwargs):\n",
    "    pass\n",
    "import warnings\n",
    "warnings.warn = warn"
   ]
  },
  {
   "cell_type": "code",
   "execution_count": 4,
   "metadata": {},
   "outputs": [],
   "source": [
    "#Data reading, data cleaning\n",
    "data = pd.read_csv('dataset.csv',sep = ';') \n",
    "data = data.replace('unknown', np.nan)"
   ]
  },
  {
   "cell_type": "code",
   "execution_count": 5,
   "metadata": {},
   "outputs": [],
   "source": [
    "#categoricat variables\n",
    "data['education'] = data['education'].fillna(data['education'].mode()[0])\n",
    "data['job'] = data['job'].fillna(data['job'].mode()[0])\n",
    "data['marital'] = data['marital'].fillna(data['marital'].mode()[0])\n",
    "data['housing'] = data['housing'].fillna(data['housing'].mode()[0])\n",
    "data['default'] = data['default'].fillna(data['default'].mode()[0])"
   ]
  },
  {
   "cell_type": "code",
   "execution_count": 6,
   "metadata": {},
   "outputs": [],
   "source": [
    "#mean encoder\n",
    "data['y'].replace({\"no\":0, \"yes\":1}, inplace=True)\n",
    "\n",
    "Mean_encoded_job = data.groupby(['job'])['y'].mean().to_dict()   \n",
    "data['job'] =  data['job'].map(Mean_encoded_job) \n",
    "\n",
    "Mean_encoded_marital = data.groupby(['marital'])['y'].mean().to_dict()   \n",
    "data['marital'] =  data['marital'].map(Mean_encoded_marital) \n",
    "\n",
    "Mean_encoded_default = data.groupby(['default'])['y'].mean().to_dict()   \n",
    "data['default'] =  data['default'].map(Mean_encoded_default)\n",
    "\n",
    "Mean_encoded_housing = data.groupby(['housing'])['y'].mean().to_dict()   \n",
    "data['housing'] =  data['housing'].map(Mean_encoded_housing)\n",
    "\n",
    "Mean_encoded_loan = data.groupby(['loan'])['y'].mean().to_dict()   \n",
    "data['loan'] =  data['loan'].map(Mean_encoded_loan)\n",
    "\n",
    "Mean_encoded_contact = data.groupby(['contact'])['y'].mean().to_dict()   \n",
    "data['contact'] =  data['contact'].map(Mean_encoded_contact)\n",
    "\n",
    "Mean_encoded_month = data.groupby(['month'])['y'].mean().to_dict()   \n",
    "data['month'] =  data['month'].map(Mean_encoded_month)\n",
    "\n",
    "Mean_encoded_poutcome = data.groupby(['poutcome'])['y'].mean().to_dict()   \n",
    "data['poutcome'] =  data['poutcome'].map(Mean_encoded_poutcome)\n",
    "\n",
    "Mean_encoded_day_of_week = data.groupby(['day_of_week'])['y'].mean().to_dict()   \n",
    "data['day_of_week'] =  data['day_of_week'].map(Mean_encoded_day_of_week)\n",
    " \n",
    "Mean_encoded_education = data.groupby(['education'])['y'].mean().to_dict()   \n",
    "data['education'] =  data['education'].map(Mean_encoded_education)\n"
   ]
  },
  {
   "cell_type": "code",
   "execution_count": 7,
   "metadata": {},
   "outputs": [],
   "source": [
    "data_drop = pd.DataFrame()\n",
    "data_drop = data\n",
    "data_drop.fillna(data_drop.mean(), inplace = True)"
   ]
  },
  {
   "cell_type": "code",
   "execution_count": 8,
   "metadata": {},
   "outputs": [
    {
     "data": {
      "text/plain": [
       "XGBClassifier(base_score=0.5, booster=None, class_weight='balanced',\n",
       "              colsample_bylevel=1, colsample_bynode=1, colsample_bytree=1,\n",
       "              gamma=0, gpu_id=-1, importance_type='gain',\n",
       "              interaction_constraints=None, learning_rate=0.300000012,\n",
       "              max_delta_step=0, max_depth=5, min_child_weight=1, missing=nan,\n",
       "              monotone_constraints=None, n_estimators=100, n_jobs=-1,\n",
       "              num_parallel_tree=1, random_state=0, reg_alpha=0, reg_lambda=1,\n",
       "              scale_pos_weight=1, subsample=1, tree_method=None,\n",
       "              validate_parameters=False, verbosity=None)"
      ]
     },
     "execution_count": 8,
     "metadata": {},
     "output_type": "execute_result"
    }
   ],
   "source": [
    "#train test split\n",
    "y = data_drop[['y']]\n",
    "X = data_drop.drop(['y'], axis=1)\n",
    "\n",
    "X_train, X_test, y_train, y_test = train_test_split(X, y, test_size=0.2, random_state=1)\n",
    "\n",
    "clf = xgb.XGBClassifier(max_depth=5, n_estimators=100 ,class_weight='balanced', n_jobs=-1)\n",
    "clf.fit(X_train, y_train)"
   ]
  },
  {
   "cell_type": "code",
   "execution_count": 13,
   "metadata": {},
   "outputs": [],
   "source": [
    "import pickle\n",
    "pickle.dump(clf, open(\"model.dat\", \"wb\"))"
   ]
  },
  {
   "cell_type": "code",
   "execution_count": 19,
   "metadata": {},
   "outputs": [
    {
     "ename": "TypeError",
     "evalue": "load() takes at most 1 positional arguments (2 given)",
     "output_type": "error",
     "traceback": [
      "\u001b[1;31m---------------------------------------------------------------------------\u001b[0m",
      "\u001b[1;31mTypeError\u001b[0m                                 Traceback (most recent call last)",
      "\u001b[1;32m<ipython-input-19-4566b241d287>\u001b[0m in \u001b[0;36m<module>\u001b[1;34m\u001b[0m\n\u001b[1;32m----> 1\u001b[1;33m \u001b[0mloaded_model\u001b[0m \u001b[1;33m=\u001b[0m \u001b[0mpickle\u001b[0m\u001b[1;33m.\u001b[0m\u001b[0mload\u001b[0m\u001b[1;33m(\u001b[0m\u001b[1;34m'model.dat'\u001b[0m\u001b[1;33m,\u001b[0m\u001b[1;34m'r'\u001b[0m\u001b[1;33m)\u001b[0m\u001b[1;33m\u001b[0m\u001b[1;33m\u001b[0m\u001b[0m\n\u001b[0m",
      "\u001b[1;31mTypeError\u001b[0m: load() takes at most 1 positional arguments (2 given)"
     ]
    }
   ],
   "source": [
    "loaded_model = pickle.load('model.dat','r')"
   ]
  },
  {
   "cell_type": "code",
   "execution_count": null,
   "metadata": {},
   "outputs": [],
   "source": []
  }
 ],
 "metadata": {
  "kernelspec": {
   "display_name": "Python 3",
   "language": "python",
   "name": "python3"
  },
  "language_info": {
   "codemirror_mode": {
    "name": "ipython",
    "version": 3
   },
   "file_extension": ".py",
   "mimetype": "text/x-python",
   "name": "python",
   "nbconvert_exporter": "python",
   "pygments_lexer": "ipython3",
   "version": "3.7.3"
  }
 },
 "nbformat": 4,
 "nbformat_minor": 2
}
